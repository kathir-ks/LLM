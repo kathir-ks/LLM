{
  "nbformat": 4,
  "nbformat_minor": 0,
  "metadata": {
    "colab": {
      "provenance": []
    },
    "kernelspec": {
      "name": "python3",
      "display_name": "Python 3"
    },
    "language_info": {
      "name": "python"
    },
    "accelerator": "TPU"
  },
  "cells": [
    {
      "cell_type": "code",
      "source": [
        "!pip install transformers"
      ],
      "metadata": {
        "id": "pAl9D7gMzhc8"
      },
      "execution_count": null,
      "outputs": []
    },
    {
      "cell_type": "code",
      "source": [
        "!wget https://github.com/Infatoshi/fcc-intro-to-llms/blob/main/wizard_of_oz.txt"
      ],
      "metadata": {
        "colab": {
          "base_uri": "https://localhost:8080/"
        },
        "id": "8Xax53HOXZXP",
        "outputId": "faf5b01a-7c06-45d4-b36b-84c4240d2505"
      },
      "execution_count": null,
      "outputs": [
        {
          "output_type": "stream",
          "name": "stdout",
          "text": [
            "--2023-10-29 16:07:22--  https://github.com/Infatoshi/fcc-intro-to-llms/blob/main/wizard_of_oz.txt\n",
            "Resolving github.com (github.com)... 140.82.114.4\n",
            "Connecting to github.com (github.com)|140.82.114.4|:443... connected.\n",
            "HTTP request sent, awaiting response... 200 OK\n",
            "Length: 277631 (271K) [text/plain]\n",
            "Saving to: ‘wizard_of_oz.txt.1’\n",
            "\n",
            "wizard_of_oz.txt.1  100%[===================>] 271.12K  --.-KB/s    in 0.1s    \n",
            "\n",
            "2023-10-29 16:07:22 (2.67 MB/s) - ‘wizard_of_oz.txt.1’ saved [277631/277631]\n",
            "\n"
          ]
        }
      ]
    },
    {
      "cell_type": "code",
      "source": [
        "import mmap\n",
        "import random\n",
        "import pickle\n",
        "import argparse"
      ],
      "metadata": {
        "id": "a3V-XwduXdPU"
      },
      "execution_count": null,
      "outputs": []
    },
    {
      "cell_type": "code",
      "execution_count": null,
      "metadata": {
        "id": "fJ6h3uMuI8PO"
      },
      "outputs": [],
      "source": [
        "import math\n",
        "import torch\n",
        "import torch.nn as nn\n",
        "from dataclasses import dataclass"
      ]
    },
    {
      "cell_type": "code",
      "source": [
        "device = 'cuda' if torch.cuda.is_available() else 'cpu'\n",
        "\n",
        "# batch_size = args.batch_size # to use the batch_size cmd arg -> python file_name.py -batch_size 32\n",
        "batch_size = 64\n",
        "block_size = 256\n",
        "max_iters = 3000\n",
        "learning_rate = 3e-4\n",
        "eval_iters = 50"
      ],
      "metadata": {
        "id": "6G6m1z0dXhae"
      },
      "execution_count": null,
      "outputs": []
    },
    {
      "cell_type": "code",
      "source": [
        "with open('wizard_of_oz.txt', 'r', encoding='utf-8') as f:\n",
        "    text = f.read()\n",
        "print(len(text))\n",
        "chars = sorted(set(text))\n",
        "print(chars)\n",
        "vocab_size = len(chars)"
      ],
      "metadata": {
        "colab": {
          "base_uri": "https://localhost:8080/"
        },
        "id": "o5812ayJX_yn",
        "outputId": "b2a75cd0-38a8-41dd-dedd-330ca41282e9"
      },
      "execution_count": null,
      "outputs": [
        {
          "output_type": "stream",
          "name": "stdout",
          "text": [
            "277628\n",
            "[' ', '!', '\"', '%', '&', \"'\", '(', ')', '*', ',', '-', '.', '/', '0', '1', '2', '3', '4', '5', '6', '7', '8', '9', ':', ';', '=', '?', 'A', 'B', 'C', 'D', 'E', 'F', 'G', 'H', 'I', 'J', 'K', 'L', 'M', 'N', 'O', 'P', 'Q', 'R', 'S', 'T', 'U', 'V', 'W', 'X', 'Y', 'Z', '[', '\\\\', ']', '_', 'a', 'b', 'c', 'd', 'e', 'f', 'g', 'h', 'i', 'j', 'k', 'l', 'm', 'n', 'o', 'p', 'q', 'r', 's', 't', 'u', 'v', 'w', 'x', 'y', 'z', '{', '}', '·', '\\ufeff']\n"
          ]
        }
      ]
    },
    {
      "cell_type": "code",
      "source": [
        "string_to_int = { ch:i for i,ch in enumerate(chars) }\n",
        "int_to_string = { i:ch for i,ch in enumerate(chars) }\n",
        "encode = lambda s: [string_to_int[c] for c in s]\n",
        "decode = lambda l: ''.join([int_to_string[i] for i in l])"
      ],
      "metadata": {
        "id": "XC_XgdxaYDMd"
      },
      "execution_count": null,
      "outputs": []
    },
    {
      "cell_type": "code",
      "source": [
        "data = torch.tensor(encode(text), dtype=torch.long)\n",
        "n = int(0.8*len(data))\n",
        "train_data = data[:n]\n",
        "val_data = data[n:]\n",
        "\n",
        "def get_batch(split):\n",
        "    data = train_data if split == 'train' else val_data\n",
        "    ix = torch.randint(len(data) - block_size, (batch_size,))\n",
        "    x = torch.stack([data[i:i+block_size] for i in ix])\n",
        "    y = torch.stack([data[i+1:i+block_size+1] for i in ix])\n",
        "    x, y = x.to(device), y.to(device)\n",
        "    return x, y"
      ],
      "metadata": {
        "id": "ZxQAMAeOYG0f"
      },
      "execution_count": null,
      "outputs": []
    },
    {
      "cell_type": "code",
      "source": [
        "@torch.no_grad()\n",
        "def estimate_loss():\n",
        "    out = {}\n",
        "    model.eval()\n",
        "    for split in ['train', 'val']:\n",
        "        losses = torch.zeros(eval_iters)\n",
        "        for k in range(eval_iters):\n",
        "            X, Y = get_batch(split)\n",
        "            logits, loss = model(X, Y)\n",
        "            losses[k] = loss.item()\n",
        "        out[split] = losses.mean()\n",
        "    model.train()\n",
        "    return out"
      ],
      "metadata": {
        "id": "rELlcmhLYNBv"
      },
      "execution_count": null,
      "outputs": []
    },
    {
      "cell_type": "markdown",
      "source": [
        "#Model"
      ],
      "metadata": {
        "id": "wCxKGM25YHtd"
      }
    },
    {
      "cell_type": "code",
      "source": [
        "# config class\n",
        "@dataclass\n",
        "class ModelArgs:\n",
        "    embed_dim : int\n",
        "    n_layers : int\n",
        "    n_heads : int\n",
        "    head_dim : int\n",
        "    vocab_size : int\n",
        "    hidden_dim : int\n",
        "    block_size : int\n",
        "    norm_eps : int\n",
        "    max_batch_size : int\n",
        "    bias : bool = True"
      ],
      "metadata": {
        "id": "lzNZP5hEJHDK"
      },
      "execution_count": null,
      "outputs": []
    },
    {
      "cell_type": "code",
      "source": [
        "#Attention Modulde\n",
        "class SelfAttention(nn.Module):\n",
        "\n",
        "    def __init__(self, args : ModelArgs):\n",
        "\n",
        "        super().__init__()\n",
        "\n",
        "        self.n_heads = args.n_heads\n",
        "        self.head_dim = args.head_dim\n",
        "        self.embed_dim = args.embed_dim\n",
        "        self.block_size = args.block_size\n",
        "        self.args = args\n",
        "\n",
        "        assert self.embed_dim % self.n_heads == 0\n",
        "        assert self.n_heads * self.head_dim == self.embed_dim\n",
        "\n",
        "        self.wq = nn.Linear(self.embed_dim, self.embed_dim, bias=False)\n",
        "        self.wk = nn.Linear(self.embed_dim, self.embed_dim, bias=False)\n",
        "        self.wv = nn.Linear(self.embed_dim, self.embed_dim, bias=False)\n",
        "        self.wo = nn.Linear(self.embed_dim, self.embed_dim, bias=False)\n",
        "\n",
        "        self.flash = hasattr(torch.nn.functional, 'scaled_dot_product_attention')\n",
        "\n",
        "        if not self.flash:\n",
        "\n",
        "            print(\"warning: flash attention is not supported\")\n",
        "\n",
        "            self.register_buffer(\"bias\", torch.tril(torch.ones(self.block_size, self.block_size))\n",
        "                                 .view(1, 1, self.block_size, self.block_size))\n",
        "\n",
        "    def forward(self, x : torch.Tensor):\n",
        "\n",
        "        B, T, C = x.size() # batch size, sequence length, embedding size(embed_dim)\n",
        "\n",
        "        q = self.wq(x) # queries\n",
        "        k = self.wk(x) # keys\n",
        "        v = self.wv(x) # values\n",
        "\n",
        "        print(q.size(), k.size(), v.size())\n",
        "\n",
        "        q = q.view(B, T, self.n_heads, C // self.n_heads).transpose(1, 2) # (B, T, C) -> (B, nh, T, hs)\n",
        "        k = k.view(B, T, self.n_heads, C // self.n_heads).transpose(1, 2) # (B, T, C) -> (B, nh, T, hs)\n",
        "        v = v.view(B, T, self.n_heads, C // self.n_heads).transpose(1, 2) # (B, T, C) -> (B, nh, T, hs)\n",
        "\n",
        "        if self.flash:\n",
        "            print(q.size(), k.size(), v.size())\n",
        "            y = torch.nn.functional.scaled_dot_product_attention(q, k, v, attn_mask=None, dropout_p=0, is_causal=True)\n",
        "        else:\n",
        "            y = (q @ k.transpose(-2, -1)) * (1.0 / math.sqrt(k.size(-1)))\n",
        "            y = y.masked_fill(self.bias[:,:,:T, :T] ==0, float('-inf'))\n",
        "            y = torch.nn.functional.softmax(y, dim=-1)\n",
        "            y = y @ v\n",
        "            y = y.transpose(1, 2).contiguous().view(B, T, C)\n",
        "\n",
        "        output = self.wo(y) #output projection\n",
        "\n",
        "        return output\n",
        "\n",
        "\n",
        "\n",
        "\n",
        "# class SelfAttention(nn.Module):\n",
        "\n",
        "#     def __init__(self, config : ModelArgs):\n",
        "#         super().__init__()\n",
        "#         assert config.embed_dim % config.n_heads == 0\n",
        "#         # key, query, value projections for all heads, but in a batch\n",
        "#         self.c_attn = nn.Linear(config.embed_dim, 3 * config.embed_dim, bias=config.bias)\n",
        "#         # output projection\n",
        "#         self.c_proj = nn.Linear(config.embed_dim, config.embed_dim, bias=config.bias)\n",
        "#         # regularization\n",
        "#         self.attn_dropout = nn.Dropout(0.1)\n",
        "#         self.resid_dropout = nn.Dropout(0.1)\n",
        "#         self.n_heads = config.n_heads\n",
        "#         self.embed_dim = config.embed_dim\n",
        "#         self.dropout = 0.1\n",
        "\n",
        "#         self.wq = nn.Linear(self.embed_dim, self.embed_dim, bias=False)\n",
        "#         self.wk = nn.Linear(self.embed_dim, self.embed_dim, bias=False)\n",
        "#         self.wv = nn.Linear(self.embed_dim, self.embed_dim, bias=False)\n",
        "#         self.wo = nn.Linear(self.embed_dim, self.embed_dim, bias=False)\n",
        "\n",
        "#         # flash attention make GPU go brrrrr but support is only in PyTorch >= 2.0\n",
        "#         self.flash = hasattr(torch.nn.functional, 'scaled_dot_product_attention')\n",
        "#         if not self.flash:\n",
        "#             print(\"WARNING: using slow attention. Flash Attention requires PyTorch >= 2.0\")\n",
        "#             # causal mask to ensure that attention is only applied to the left in the input sequence\n",
        "#             self.register_buffer(\"bias\", torch.tril(torch.ones(block_size, block_size))\n",
        "#                                         .view(1, 1, block_size, block_size))\n",
        "\n",
        "#     def forward(self, x):\n",
        "\n",
        "#         B, T, C = x.size() # batch size, sequence length, embedding dimensionality (n_embd)\n",
        "\n",
        "#         # calculate query, key, values for all heads in batch and move head forward to be the batch dim\n",
        "#         # q, k, v  = self.c_attn(x).split(self.embed_dim, dim=2)\n",
        "\n",
        "#         q = self.wq(x)\n",
        "#         k = self.wk(x)\n",
        "#         v = self.wv(x)\n",
        "\n",
        "#         k = k.view(B, T, self.n_heads, C // self.n_heads).transpose(1, 2) # (B, nh, T, hs)\n",
        "#         q = q.view(B, T, self.n_heads, C // self.n_heads).transpose(1, 2) # (B, nh, T, hs)\n",
        "#         v = v.view(B, T, self.n_heads, C // self.n_heads).transpose(1, 2) # (B, nh, T, hs)\n",
        "\n",
        "#         print(q.size(), k.size(), v.size())\n",
        "\n",
        "#         # causal self-attention; Self-attend: (B, nh, T, hs) x (B, nh, hs, T) -> (B, nh, T, T)\n",
        "#         if self.flash:\n",
        "#             print(q.size(), k.size(), v.size())\n",
        "#             # efficient attention using Flash Attention CUDA kernels\n",
        "#             y = torch.nn.functional.scaled_dot_product_attention(q, k, v, attn_mask=None, dropout_p=0, is_causal=True)\n",
        "#         else:\n",
        "#             # manual implementation of attention\n",
        "#             att = (q @ k.transpose(-2, -1)) * (1.0 / math.sqrt(k.size(-1)))\n",
        "#             att = att.masked_fill(self.bias[:,:,:T,:T] == 0, float('-inf'))\n",
        "#             att = nn.functional.softmax(att, dim=-1)\n",
        "#             att = self.attn_dropout(att)\n",
        "#             y = att @ v # (B, nh, T, T) x (B, nh, T, hs) -> (B, nh, T, hs)\n",
        "#         y = y.transpose(1, 2).contiguous().view(B, T, C) # re-assemble all head outputs side by side\n",
        "\n",
        "#         # output projection\n",
        "#         y = self.resid_dropout(self.c_proj(y))\n",
        "#         return y\n"
      ],
      "metadata": {
        "id": "G7rHtbqmJIcx"
      },
      "execution_count": null,
      "outputs": []
    },
    {
      "cell_type": "code",
      "source": [
        "class FeedForward(nn.Module):\n",
        "\n",
        "    def __init__(self, args : ModelArgs):\n",
        "        super().__init__()\n",
        "\n",
        "        self.w1 = nn.Linear(args.embed_dim, args.embed_dim * 4, bias = False)\n",
        "        self.w2 = nn.Linear(args.embed_dim * 4, args.embed_dim, bias = False)\n",
        "        self.w3 = nn.Linear(args.embed_dim, args.embed_dim * 4, bias = False)\n",
        "\n",
        "    def forward(self, x) -> torch.Tensor:\n",
        "        return self.w2(nn.functional.silu(self.w1(x)) * self.w3(x))\n"
      ],
      "metadata": {
        "id": "ofURnJs2JJ6p"
      },
      "execution_count": null,
      "outputs": []
    },
    {
      "cell_type": "code",
      "source": [
        "class RMSNorm(torch.nn.Module):\n",
        "\n",
        "    def __init__(self, embed_dim : int, eps: float = 1e6):\n",
        "      super().__init__()\n",
        "      self.eps = eps\n",
        "      self.weight = nn.Parameter(torch.ones(embed_dim))\n",
        "\n",
        "    def _norm(self, x):\n",
        "      return x * torch.rsqrt(x.pow(2).mean(-1, keepdim=True) + self.eps)\n",
        "\n",
        "    def forward(self , x):\n",
        "      output = self._norm(x.float()).type_as(x)\n",
        "      return output * self.weight\n",
        "\n",
        "\n",
        "# class RMSNorm(torch.nn.Module):\n",
        "#     def __init__(self, dim: int, eps: float = 1e-6):\n",
        "#         super().__init__()\n",
        "#         self.eps = eps\n",
        "#         self.weight = nn.Parameter(torch.ones(dim))\n",
        "\n",
        "#     def _norm(self, x):\n",
        "#         return x * torch.rsqrt(x.pow(2).mean(-1, keepdim=True) + self.eps)\n",
        "\n",
        "#     def forward(self, x):\n",
        "#         output = self._norm(x.float()).type_as(x)\n",
        "#         return output * self.weight"
      ],
      "metadata": {
        "id": "eS-Fw9o_JPMq"
      },
      "execution_count": null,
      "outputs": []
    },
    {
      "cell_type": "code",
      "source": [
        "class TransformerBlock(nn.Module):\n",
        "\n",
        "    def __init__(self, args: ModelArgs):\n",
        "      super().__init__()\n",
        "      self.args = args\n",
        "      self.n_heads = args.n_heads\n",
        "      self.embed_dim = args.embed_dim\n",
        "      self.Attention = SelfAttention(args)\n",
        "      self.Feed_Forward = FeedForward(args)\n",
        "      self.Attention_Norm = RMSNorm(self.embed_dim, eps = 1e6)\n",
        "      self.Feed_Forward_Norm = RMSNorm(self.embed_dim, eps = 1e6)\n",
        "\n",
        "    def forward(self, x: torch.Tensor):\n",
        "      x = self.Attention_Norm(x)\n",
        "      x = x + self.Attention(x)\n",
        "      x = self.Feed_Forward_Norm(x)\n",
        "      x = x + self.Feed_Forward(x)\n",
        "      return x"
      ],
      "metadata": {
        "id": "C8PmNwINMP9A"
      },
      "execution_count": null,
      "outputs": []
    },
    {
      "cell_type": "code",
      "source": [
        "class Transformer(nn.Module):\n",
        "\n",
        "    def __init__(self , args: ModelArgs):\n",
        "      super().__init__()\n",
        "      assert args.vocab_size is not None\n",
        "      self.args = args\n",
        "\n",
        "      self.transformer = nn.ModuleDict(dict(\n",
        "          wte = nn.Embedding(args.vocab_size, args.embed_dim),\n",
        "          wpe = nn.Embedding(args.block_size, args.embed_dim),\n",
        "          drop = nn.Dropout(0.1),\n",
        "          h = nn.ModuleList([TransformerBlock(args) for _ in range(args.n_layers)]),\n",
        "          ln_f = RMSNorm(args.embed_dim, eps =1e6)\n",
        "      ))\n",
        "\n",
        "      self.lm_head = nn.Linear(args.embed_dim, args.vocab_size,bias = False )\n",
        "      self.transformer.wte.weight = self.lm_head.weight\n",
        "      self.apply(self._init_weights)\n",
        "      print(\"number of parameters: %.2fM\" % (self.get_num_params()/1e6,))\n",
        "\n",
        "\n",
        "    def get_num_params(self, non_embedding=True):\n",
        "          \"\"\"\n",
        "          Return the number of parameters in the model.\n",
        "          For non-embedding count (default), the position embeddings get subtracted.\n",
        "          The token embeddings would too, except due to the parameter sharing these\n",
        "          params are actually used as weights in the final layer, so we include them.\n",
        "          \"\"\"\n",
        "          n_params = sum(p.numel() for p in self.parameters())\n",
        "          if non_embedding:\n",
        "              n_params -= self.transformer.wpe.weight.numel()\n",
        "          return n_params\n",
        "\n",
        "\n",
        "    def _init_weights(self, module):\n",
        "      if isinstance(module, nn.Linear):\n",
        "        torch.nn.init.normal_(module.weight, mean = 0.0, std = 0.02)\n",
        "        if module.bias is not None:\n",
        "          torch.nn.init.zeros_(module.bias)\n",
        "      elif isinstance(module, nn.Embedding):\n",
        "        torch.nn.init.normal_(module.weight, mean = 0.0, std = 0.02)\n",
        "\n",
        "\n",
        "    def forward(self, idx, targets = None):\n",
        "      device = idx.device\n",
        "      b, t = idx.size()\n",
        "      assert t <= self.args.block_size, f\" cannot forward a sequence with length greater than max_block_size\"\n",
        "      pos = torch.arange(0, t, dtype=torch.long, device=device)\n",
        "\n",
        "      tok_embed = self.transformer.wte(idx)\n",
        "      pos_embed = self.transformer.wpe(pos)\n",
        "\n",
        "      x = self.transformer.drop(tok_embed + pos_embed)\n",
        "      for block in self.transformer.h:\n",
        "        x = block(x)\n",
        "      x = self.transformer.ln_f(x)\n",
        "      logits = self.lm_head(x)\n",
        "\n",
        "      if targets is None:\n",
        "            loss = None\n",
        "      else:\n",
        "            B, T, C = logits.shape\n",
        "            logits = logits.view(B*T, C)\n",
        "            targets = targets.view(B*T)\n",
        "            loss = nn.functional.cross_entropy(logits, targets)\n",
        "\n",
        "      return logits, loss\n",
        "\n",
        "    def generate(self, idx, max_new_tokens, temperature=1.0, top_k=None):\n",
        "        \"\"\"\n",
        "        Take a conditioning sequence of indices idx (LongTensor of shape (b,t)) and complete\n",
        "        the sequence max_new_tokens times, feeding the predictions back into the model each time.\n",
        "        Most likely you'll want to make sure to be in model.eval() mode of operation for this.\n",
        "        \"\"\"\n",
        "        for _ in range(max_new_tokens):\n",
        "            # if the sequence context is growing too long we must crop it at block_size\n",
        "            idx_cond = idx if idx.size(1) <= self.args.block_size else idx[:, -self.args.block_size:]\n",
        "            # forward the model to get the logits for the index in the sequence\n",
        "            logits, _ = self(idx, targets = None)\n",
        "            # pluck the logits at the final step and scale by desired temperature\n",
        "            logits = logits[:, -1, :] / temperature\n",
        "            # optionally crop the logits to only the top k options\n",
        "            if top_k is not None:\n",
        "                v, _ = torch.topk(logits, min(top_k, logits.size(-1)))\n",
        "                logits[logits < v[:, [-1]]] = -float('Inf')\n",
        "            # apply softmax to convert logits to (normalized) probabilities\n",
        "            probs = nn.functional.softmax(logits, dim=-1)\n",
        "            # sample from the distribution\n",
        "            idx_next = torch.multinomial(probs, num_samples=1)\n",
        "            # append sampled index to the running sequence and continue\n",
        "            idx = torch.cat((idx, idx_next), dim=1)\n",
        "\n",
        "        return idx\n",
        "\n"
      ],
      "metadata": {
        "id": "HSpl0PpBONBc"
      },
      "execution_count": null,
      "outputs": []
    },
    {
      "cell_type": "code",
      "source": [
        "# # config class\n",
        "# dataclass\n",
        "# class ModelArgs:\n",
        "#     embed_dim : int\n",
        "#     n_layers : int\n",
        "#     n_heads : int\n",
        "#     head_dim : int\n",
        "#     vocab_size : int\n",
        "#     hidden_dim : int\n",
        "#     block_size : int\n",
        "#     norm_eps : int\n",
        "#     max_batch_size : int\n",
        "#     bias : bool = True\n",
        "\n",
        "model_args = ModelArgs(\n",
        "    embed_dim = 2048,\n",
        "    n_layers = 32,\n",
        "    n_heads = 32,\n",
        "    head_dim = 64,\n",
        "    vocab_size = 87,\n",
        "    hidden_dim = 8192,\n",
        "    block_size = 256,\n",
        "    norm_eps = 1e6,\n",
        "    max_batch_size = 32,\n",
        "    bias = True\n",
        ")"
      ],
      "metadata": {
        "id": "nI31QNA6WO8s"
      },
      "execution_count": null,
      "outputs": []
    },
    {
      "cell_type": "code",
      "source": [
        "print(model_args)"
      ],
      "metadata": {
        "colab": {
          "base_uri": "https://localhost:8080/"
        },
        "id": "wGhnHYCbXLx1",
        "outputId": "a05f3ae8-61b8-4564-ab9f-f907a0010fb1"
      },
      "execution_count": null,
      "outputs": [
        {
          "output_type": "stream",
          "name": "stdout",
          "text": [
            "ModelArgs(embed_dim=2048, n_layers=32, n_heads=32, head_dim=64, vocab_size=87, hidden_dim=8192, block_size=256, norm_eps=1000000.0, max_batch_size=32, bias=True)\n"
          ]
        }
      ]
    },
    {
      "cell_type": "markdown",
      "source": [
        "# create an instance of the model"
      ],
      "metadata": {
        "id": "5oap11W6YUqm"
      }
    },
    {
      "cell_type": "code",
      "source": [
        "model = Transformer(model_args)"
      ],
      "metadata": {
        "colab": {
          "base_uri": "https://localhost:8080/"
        },
        "id": "D_uWcEG5XQAH",
        "outputId": "1b3b3954-8759-4d64-a79d-1ff638284c0e"
      },
      "execution_count": null,
      "outputs": [
        {
          "output_type": "stream",
          "name": "stdout",
          "text": [
            "number of parameters: 2147.79M\n"
          ]
        }
      ]
    },
    {
      "cell_type": "code",
      "source": [
        "model = model.to(device)"
      ],
      "metadata": {
        "id": "JDg7Q7-UaKH-"
      },
      "execution_count": null,
      "outputs": []
    },
    {
      "cell_type": "code",
      "source": [
        "prompts = ['hi']\n",
        "contexts = [torch.tensor(encode(prompt), dtype=torch.long, device=device) for prompt in prompts]\n",
        "generated_chars = [decode(model.generate(context.unsqueeze(0), max_new_tokens=100)[0].tolist()) for context in contexts]\n",
        "print(generated_chars)"
      ],
      "metadata": {
        "id": "xXNogunzasRT"
      },
      "execution_count": null,
      "outputs": []
    },
    {
      "cell_type": "code",
      "source": [
        "# create a PyTorch optimizer\n",
        "optimizer = torch.optim.AdamW(model.parameters(), lr=learning_rate)\n",
        "\n",
        "for iter in range(max_iters):\n",
        "    print(iter)\n",
        "    if iter % eval_iters == 0:\n",
        "        losses = estimate_loss()\n",
        "        print(f\"step: {iter}, train loss: {losses['train']:.3f}, val loss: {losses['val']:.3f}\")\n",
        "\n",
        "    # sample a batch of data\n",
        "    xb, yb = get_batch('train')\n",
        "\n",
        "    # evaluate the loss\n",
        "    logits, loss = model.forward(xb, yb)\n",
        "    optimizer.zero_grad(set_to_none=True)\n",
        "    loss.backward()\n",
        "    optimizer.step()\n",
        "print(loss.item())"
      ],
      "metadata": {
        "id": "HcEFXaCoaQtq"
      },
      "execution_count": null,
      "outputs": []
    }
  ]
}